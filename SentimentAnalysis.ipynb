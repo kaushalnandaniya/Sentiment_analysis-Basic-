{
  "cells": [
    {
      "cell_type": "code",
      "execution_count": null,
      "metadata": {
        "colab": {
          "base_uri": "https://localhost:8080/"
        },
        "id": "tyHjpsdAoU4o",
        "outputId": "44976819-ed3a-4d74-c9cb-a2ff0a8c8e2d"
      },
      "outputs": [],
      "source": [
        "! pip install kaggle"
      ]
    },
    {
      "cell_type": "code",
      "execution_count": 12,
      "metadata": {
        "id": "I7qywqTKomxc"
      },
      "outputs": [],
      "source": [
        "!mkdir -p ~/.kaggle\n",
        "!cp kaggle.json ~/.kaggle/\n",
        "!chmod 600 ~/.kaggle/kaggle.json"
      ]
    },
    {
      "cell_type": "code",
      "execution_count": null,
      "metadata": {
        "colab": {
          "base_uri": "https://localhost:8080/"
        },
        "id": "3CBZ6vBupM6j",
        "outputId": "68bcd62d-bfc1-4aa2-ee34-ba8b691ffa7c"
      },
      "outputs": [],
      "source": [
        "!kaggle datasets download -d kazanova/sentiment140"
      ]
    },
    {
      "cell_type": "code",
      "execution_count": null,
      "metadata": {
        "colab": {
          "base_uri": "https://localhost:8080/"
        },
        "id": "E84JoIsLqw80",
        "outputId": "f247cc6a-0d93-4c7a-90c8-dc3446abefcf"
      },
      "outputs": [],
      "source": [
        "from zipfile import ZipFile\n",
        "\n",
        "dataset = '/content/sentiment140.zip'\n",
        "\n",
        "with ZipFile(dataset,'r') as zip:\n",
        " zip.extractall()\n",
        "print('data extracted')\n"
      ]
    },
    {
      "cell_type": "markdown",
      "metadata": {
        "id": "VXXUXlVoCtSi"
      },
      "source": [
        "requirement"
      ]
    },
    {
      "cell_type": "code",
      "execution_count": 15,
      "metadata": {
        "id": "kpvnPQpoC2RB"
      },
      "outputs": [],
      "source": [
        "import numpy as np\n",
        "import pandas as pd\n",
        "import re\n",
        "from nltk.corpus import stopwords\n",
        "from nltk.stem.porter import PorterStemmer\n",
        "from sklearn.feature_extraction.text import TfidfVectorizer\n",
        "from sklearn.model_selection import train_test_split\n",
        "from sklearn.linear_model import LogisticRegression\n",
        "from sklearn.metrics import accuracy_score"
      ]
    },
    {
      "cell_type": "code",
      "execution_count": null,
      "metadata": {
        "colab": {
          "base_uri": "https://localhost:8080/"
        },
        "id": "wXYrhWM5EKyX",
        "outputId": "abcd1402-3735-453e-f23f-d95e19987ce2"
      },
      "outputs": [],
      "source": [
        "import nltk\n",
        "nltk.download('stopwords')"
      ]
    },
    {
      "cell_type": "markdown",
      "metadata": {
        "id": "vnEdLlNqE5c1"
      },
      "source": [
        "preprocessing of data"
      ]
    },
    {
      "cell_type": "code",
      "execution_count": 17,
      "metadata": {
        "id": "8F9NnTiZFB9k"
      },
      "outputs": [],
      "source": [
        "col_name = ['target','id','date','flag','user','text']\n",
        "twitter_data = pd.read_csv('/content/training.1600000.processed.noemoticon.csv',names= col_name ,encoding = 'ISO-8859-1')"
      ]
    },
    {
      "cell_type": "code",
      "execution_count": null,
      "metadata": {
        "colab": {
          "base_uri": "https://localhost:8080/",
          "height": 204
        },
        "id": "5ehn2HFTFlQt",
        "outputId": "8ce01d16-f65d-4e17-b302-2d1e00a914ab"
      },
      "outputs": [],
      "source": [
        "twitter_data.head()"
      ]
    },
    {
      "cell_type": "code",
      "execution_count": null,
      "metadata": {
        "colab": {
          "base_uri": "https://localhost:8080/"
        },
        "id": "Zku6Zd8mG7Cl",
        "outputId": "46c1c312-9f41-454a-b13b-91688f23166a"
      },
      "outputs": [],
      "source": [
        "twitter_data.shape"
      ]
    },
    {
      "cell_type": "code",
      "execution_count": null,
      "metadata": {
        "colab": {
          "base_uri": "https://localhost:8080/",
          "height": 269
        },
        "id": "Z1YoURBMG_v7",
        "outputId": "5b16ffc7-0405-403e-dc19-8171a5c5ae55"
      },
      "outputs": [],
      "source": [
        "twitter_data.isnull().sum()"
      ]
    },
    {
      "cell_type": "code",
      "execution_count": null,
      "metadata": {
        "colab": {
          "base_uri": "https://localhost:8080/",
          "height": 176
        },
        "id": "k8ulC_T8IG0q",
        "outputId": "9e61b9f8-fddf-44e7-84a1-292e6399ec07"
      },
      "outputs": [],
      "source": [
        "twitter_data['target'].value_counts()"
      ]
    },
    {
      "cell_type": "code",
      "execution_count": 22,
      "metadata": {
        "id": "TRO1MeQtIYlb"
      },
      "outputs": [],
      "source": [
        "twitter_data.replace({'target':{4:1}},inplace= True)"
      ]
    },
    {
      "cell_type": "code",
      "execution_count": null,
      "metadata": {
        "colab": {
          "base_uri": "https://localhost:8080/",
          "height": 176
        },
        "id": "373cy8bdIugJ",
        "outputId": "2dd20298-2d3a-4341-a74d-1b86fbf7e1f9"
      },
      "outputs": [],
      "source": [
        "twitter_data['target'].value_counts()"
      ]
    },
    {
      "cell_type": "code",
      "execution_count": 24,
      "metadata": {
        "id": "nkkGV4F2JExz"
      },
      "outputs": [],
      "source": [
        "stemed = PorterStemmer()"
      ]
    },
    {
      "cell_type": "code",
      "execution_count": 25,
      "metadata": {
        "id": "iF5w4OFyZQGX"
      },
      "outputs": [],
      "source": [
        "def stemming(content):\n",
        "  stm_cnt = re.sub('[^a-zA-Z]',' ',content)\n",
        "  stm_cnt = stm_cnt.lower()\n",
        "  stm_cnt = stm_cnt.split()\n",
        "  stm_cnt = [stemed.stem(word) for word in stm_cnt if not word in stopwords.words('english')]\n",
        "  stm_cnt = ' '.join(stm_cnt)\n",
        "  return stm_cnt"
      ]
    },
    {
      "cell_type": "code",
      "execution_count": null,
      "metadata": {
        "id": "hZAFJiyzaeP6"
      },
      "outputs": [],
      "source": [
        "twitter_data['stm_cnt'] = twitter_data['text'].apply(stemming)"
      ]
    },
    {
      "cell_type": "code",
      "execution_count": null,
      "metadata": {
        "id": "ZTNdEwpSa3Av"
      },
      "outputs": [],
      "source": [
        "twitter_data.head()"
      ]
    },
    {
      "cell_type": "code",
      "execution_count": null,
      "metadata": {
        "id": "AtMvHx_8lDdw"
      },
      "outputs": [],
      "source": [
        "twitter_data['stm_cnt'].shape"
      ]
    },
    {
      "cell_type": "code",
      "execution_count": null,
      "metadata": {
        "id": "I1xjifWDlJue"
      },
      "outputs": [],
      "source": [
        "x = twitter_data['stm_cnt']"
      ]
    },
    {
      "cell_type": "code",
      "execution_count": null,
      "metadata": {
        "id": "NEdcHLcvle1e"
      },
      "outputs": [],
      "source": [
        "y = twitter_data['target']"
      ]
    },
    {
      "cell_type": "code",
      "execution_count": null,
      "metadata": {
        "id": "v2AyLR2ZlkbL"
      },
      "outputs": [],
      "source": [
        "print(x)"
      ]
    },
    {
      "cell_type": "markdown",
      "metadata": {
        "id": "_ebX4f3vly4x"
      },
      "source": [
        "#Split data"
      ]
    },
    {
      "cell_type": "code",
      "execution_count": 47,
      "metadata": {
        "id": "ARaguGzJl2uK"
      },
      "outputs": [],
      "source": [
        "x_train, x_test, y_train, y_test = train_test_split(x,y,test_size=0.2 , stratify=y,random_state=2)"
      ]
    },
    {
      "cell_type": "code",
      "execution_count": null,
      "metadata": {
        "colab": {
          "base_uri": "https://localhost:8080/"
        },
        "id": "ycpO71tAmQrc",
        "outputId": "9d2a40b0-3647-4a23-c178-b4c27f5e4cd8"
      },
      "outputs": [],
      "source": [
        "print(x_test.shape,x_train.shape)"
      ]
    },
    {
      "cell_type": "markdown",
      "metadata": {
        "id": "yTg91iwBmnQI"
      },
      "source": [
        "text to numerical"
      ]
    },
    {
      "cell_type": "code",
      "execution_count": 49,
      "metadata": {
        "id": "lEqGml-kmrOT"
      },
      "outputs": [],
      "source": [
        "vectorizer = TfidfVectorizer()\n",
        "\n",
        "x_train  = vectorizer.fit_transform(x_train)\n",
        "x_test = vectorizer.transform(x_test)"
      ]
    },
    {
      "cell_type": "code",
      "execution_count": null,
      "metadata": {
        "colab": {
          "base_uri": "https://localhost:8080/"
        },
        "id": "x6fydN1PnZYr",
        "outputId": "1900ecff-a2a5-4ddb-bb5e-3cc8743aa798"
      },
      "outputs": [],
      "source": [
        "print(x_train)"
      ]
    },
    {
      "cell_type": "code",
      "execution_count": null,
      "metadata": {
        "id": "8BilTra5nh_T"
      },
      "outputs": [],
      "source": [
        "print(x_test)"
      ]
    },
    {
      "cell_type": "markdown",
      "metadata": {
        "id": "sxPwGAPBn24Z"
      },
      "source": [
        "#Train Model"
      ]
    },
    {
      "cell_type": "code",
      "execution_count": null,
      "metadata": {
        "id": "JmaLYA2jn5EF"
      },
      "outputs": [],
      "source": [
        "model = LogisticRegression(max_iter= 1000)"
      ]
    },
    {
      "cell_type": "code",
      "execution_count": null,
      "metadata": {
        "id": "vK5D1NQLn__m"
      },
      "outputs": [],
      "source": [
        "model.fit(x_train,y_train)"
      ]
    },
    {
      "cell_type": "markdown",
      "metadata": {},
      "source": [
        "#Prediction and Accuracy"
      ]
    },
    {
      "cell_type": "code",
      "execution_count": null,
      "metadata": {
        "id": "bwBZeUFZoM7_"
      },
      "outputs": [],
      "source": [
        "x_train_pre = model.predict(x_train)\n",
        "acc = accuracy_score(y_train,x_train_pre)"
      ]
    },
    {
      "cell_type": "code",
      "execution_count": null,
      "metadata": {
        "id": "XZw1aMUiovsR"
      },
      "outputs": [],
      "source": [
        "print(acc)"
      ]
    },
    {
      "cell_type": "code",
      "execution_count": null,
      "metadata": {
        "id": "vCPg1dLtozt0"
      },
      "outputs": [],
      "source": [
        "x_test_pre = model.predict(x_test)\n",
        "acc_test = accuracy_score(y_test,x_test_pre)"
      ]
    },
    {
      "cell_type": "code",
      "execution_count": null,
      "metadata": {
        "id": "Sva1Ur0BpbnM"
      },
      "outputs": [],
      "source": [
        "print(acc_test)"
      ]
    }
  ],
  "metadata": {
    "colab": {
      "provenance": []
    },
    "kernelspec": {
      "display_name": "Python 3",
      "name": "python3"
    },
    "language_info": {
      "name": "python"
    }
  },
  "nbformat": 4,
  "nbformat_minor": 0
}
